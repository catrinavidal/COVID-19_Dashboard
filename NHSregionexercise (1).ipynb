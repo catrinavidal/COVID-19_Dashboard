{
 "cells": [
  {
   "cell_type": "markdown",
   "id": "eba4b662-263c-474c-b358-a47a027a9ce1",
   "metadata": {},
   "source": [
    "# COVID-19 Dashboard - NHS Region (London)\n",
    "### Summary of hospital cases, new admissions, transmission rate growth rate Max and Min"
   ]
  },
  {
   "cell_type": "markdown",
   "id": "633dc857-650e-4b53-810e-bb40fc0f075e",
   "metadata": {},
   "source": [
    "Collection of data from the latest release date, showing tables and graphs of the latest information collected across the NHS Region (London) on new hospital cases, new admissions, and minimum/maximum transmission rate growth rate. \n",
    "\n",
    "Data was collected from the [NHS Region](https://coronavirus.data.gov.uk/details/download), extracted data on the 27th of October 2021."
   ]
  },
  {
   "cell_type": "code",
   "execution_count": 1,
   "id": "e0fdaae4-7373-450d-b0b1-bdff1beaba2b",
   "metadata": {},
   "outputs": [],
   "source": [
    "import pandas as pd\n",
    "import matplotlib.pyplot as plt\n",
    "import json"
   ]
  },
  {
   "cell_type": "code",
   "execution_count": 2,
   "id": "42e73314-a850-40c2-b921-7d641ce3272f",
   "metadata": {},
   "outputs": [],
   "source": [
    "# an iPython  \"magic\" that enables the embedding of matplotlib output\n",
    "%matplotlib inline\n",
    "# make figures larger\n",
    "plt.rcParams['figure.dpi'] = 120"
   ]
  },
  {
   "cell_type": "markdown",
   "id": "6ea778a2-27ad-4a4c-b2ad-2cc470c176db",
   "metadata": {},
   "source": [
    "##  Loading of Data"
   ]
  },
  {
   "cell_type": "code",
   "execution_count": 3,
   "id": "07f9de75-9fac-4dbd-a2a7-d5289174a41a",
   "metadata": {},
   "outputs": [],
   "source": [
    "with open(\"nhsRegion_2021-10-26.json\", \"rt\") as INFILE:\n",
    "    data=json.load(INFILE)"
   ]
  },
  {
   "cell_type": "code",
   "execution_count": 4,
   "id": "65d65ad1-193a-4bc2-b866-6b8fa50b4f85",
   "metadata": {},
   "outputs": [],
   "source": [
    "datalist=data['body']\n",
    "# datalist"
   ]
  },
  {
   "cell_type": "code",
   "execution_count": 5,
   "id": "4a5ec0b9-3579-4016-910a-86f764cdfce3",
   "metadata": {},
   "outputs": [],
   "source": [
    "dates=[dictionary['date'] for dictionary in datalist ]\n",
    "dates.sort()\n",
    "# dates"
   ]
  },
  {
   "cell_type": "code",
   "execution_count": 6,
   "id": "1702d065-4626-423c-88fc-10097a9116e0",
   "metadata": {},
   "outputs": [],
   "source": [
    "def parse_date(datestring):\n",
    "    \"\"\" Convert a date string into a pandas datetime object \"\"\"\n",
    "    return pd.to_datetime(datestring, format=\"%Y-%m-%d\")"
   ]
  },
  {
   "cell_type": "code",
   "execution_count": 38,
   "id": "066909e5-6d20-46fa-90af-95d6a63685e9",
   "metadata": {},
   "outputs": [],
   "source": [
    "startdate=parse_date(dates[0])\n",
    "enddate=parse_date(dates[-1])\n",
    "#print (startdate, ' to ', enddate)"
   ]
  },
  {
   "cell_type": "markdown",
   "id": "44cc3dad-8785-43a3-a59e-617912ba068d",
   "metadata": {},
   "source": [
    "### Loading the data into timeseries data frame"
   ]
  },
  {
   "cell_type": "code",
   "execution_count": 8,
   "id": "c4d766a8-34fe-483d-9be3-cc273c6b8762",
   "metadata": {},
   "outputs": [
    {
     "data": {
      "text/html": [
       "<div>\n",
       "<style scoped>\n",
       "    .dataframe tbody tr th:only-of-type {\n",
       "        vertical-align: middle;\n",
       "    }\n",
       "\n",
       "    .dataframe tbody tr th {\n",
       "        vertical-align: top;\n",
       "    }\n",
       "\n",
       "    .dataframe thead th {\n",
       "        text-align: right;\n",
       "    }\n",
       "</style>\n",
       "<table border=\"1\" class=\"dataframe\">\n",
       "  <thead>\n",
       "    <tr style=\"text-align: right;\">\n",
       "      <th></th>\n",
       "      <th>hospitalCases</th>\n",
       "      <th>newAdmissions</th>\n",
       "      <th>transmissionRateGrowthRateMax</th>\n",
       "      <th>transmissionRateGrowthRateMin</th>\n",
       "    </tr>\n",
       "  </thead>\n",
       "  <tbody>\n",
       "    <tr>\n",
       "      <th>2020-03-19</th>\n",
       "      <td>NaN</td>\n",
       "      <td>NaN</td>\n",
       "      <td>NaN</td>\n",
       "      <td>NaN</td>\n",
       "    </tr>\n",
       "    <tr>\n",
       "      <th>2020-03-20</th>\n",
       "      <td>NaN</td>\n",
       "      <td>NaN</td>\n",
       "      <td>NaN</td>\n",
       "      <td>NaN</td>\n",
       "    </tr>\n",
       "    <tr>\n",
       "      <th>2020-03-21</th>\n",
       "      <td>NaN</td>\n",
       "      <td>NaN</td>\n",
       "      <td>NaN</td>\n",
       "      <td>NaN</td>\n",
       "    </tr>\n",
       "    <tr>\n",
       "      <th>2020-03-22</th>\n",
       "      <td>NaN</td>\n",
       "      <td>NaN</td>\n",
       "      <td>NaN</td>\n",
       "      <td>NaN</td>\n",
       "    </tr>\n",
       "    <tr>\n",
       "      <th>2020-03-23</th>\n",
       "      <td>NaN</td>\n",
       "      <td>NaN</td>\n",
       "      <td>NaN</td>\n",
       "      <td>NaN</td>\n",
       "    </tr>\n",
       "    <tr>\n",
       "      <th>2020-03-24</th>\n",
       "      <td>NaN</td>\n",
       "      <td>NaN</td>\n",
       "      <td>NaN</td>\n",
       "      <td>NaN</td>\n",
       "    </tr>\n",
       "    <tr>\n",
       "      <th>2020-03-25</th>\n",
       "      <td>NaN</td>\n",
       "      <td>NaN</td>\n",
       "      <td>NaN</td>\n",
       "      <td>NaN</td>\n",
       "    </tr>\n",
       "    <tr>\n",
       "      <th>2020-03-26</th>\n",
       "      <td>NaN</td>\n",
       "      <td>NaN</td>\n",
       "      <td>NaN</td>\n",
       "      <td>NaN</td>\n",
       "    </tr>\n",
       "    <tr>\n",
       "      <th>2020-03-27</th>\n",
       "      <td>NaN</td>\n",
       "      <td>NaN</td>\n",
       "      <td>NaN</td>\n",
       "      <td>NaN</td>\n",
       "    </tr>\n",
       "    <tr>\n",
       "      <th>2020-03-28</th>\n",
       "      <td>NaN</td>\n",
       "      <td>NaN</td>\n",
       "      <td>NaN</td>\n",
       "      <td>NaN</td>\n",
       "    </tr>\n",
       "  </tbody>\n",
       "</table>\n",
       "</div>"
      ],
      "text/plain": [
       "           hospitalCases newAdmissions transmissionRateGrowthRateMax  \\\n",
       "2020-03-19           NaN           NaN                           NaN   \n",
       "2020-03-20           NaN           NaN                           NaN   \n",
       "2020-03-21           NaN           NaN                           NaN   \n",
       "2020-03-22           NaN           NaN                           NaN   \n",
       "2020-03-23           NaN           NaN                           NaN   \n",
       "2020-03-24           NaN           NaN                           NaN   \n",
       "2020-03-25           NaN           NaN                           NaN   \n",
       "2020-03-26           NaN           NaN                           NaN   \n",
       "2020-03-27           NaN           NaN                           NaN   \n",
       "2020-03-28           NaN           NaN                           NaN   \n",
       "\n",
       "           transmissionRateGrowthRateMin  \n",
       "2020-03-19                           NaN  \n",
       "2020-03-20                           NaN  \n",
       "2020-03-21                           NaN  \n",
       "2020-03-22                           NaN  \n",
       "2020-03-23                           NaN  \n",
       "2020-03-24                           NaN  \n",
       "2020-03-25                           NaN  \n",
       "2020-03-26                           NaN  \n",
       "2020-03-27                           NaN  \n",
       "2020-03-28                           NaN  "
      ]
     },
     "execution_count": 8,
     "metadata": {},
     "output_type": "execute_result"
    }
   ],
   "source": [
    "index=pd.date_range(startdate, enddate, freq='D')\n",
    "timeseriesdf=pd.DataFrame(index=index, columns=['hospitalCases', 'newAdmissions', 'transmissionRateGrowthRateMax', 'transmissionRateGrowthRateMin'])\n",
    "timeseriesdf.head(10)"
   ]
  },
  {
   "cell_type": "markdown",
   "id": "b0156061-a5c1-4c10-9d73-295f62f61c2b",
   "metadata": {},
   "source": [
    "## Adding our json data file into the timeseries data frame\n",
    "    \n",
    "    \n",
    "Shows the first and last 10 release dates of data presenting the hospital cases, new admissions, and max/min trasnmission rate growth rate."
   ]
  },
  {
   "cell_type": "code",
   "execution_count": 9,
   "id": "226437f7-f123-4dd5-b3ba-3381e522a275",
   "metadata": {},
   "outputs": [
    {
     "data": {
      "text/html": [
       "<div>\n",
       "<style scoped>\n",
       "    .dataframe tbody tr th:only-of-type {\n",
       "        vertical-align: middle;\n",
       "    }\n",
       "\n",
       "    .dataframe tbody tr th {\n",
       "        vertical-align: top;\n",
       "    }\n",
       "\n",
       "    .dataframe thead th {\n",
       "        text-align: right;\n",
       "    }\n",
       "</style>\n",
       "<table border=\"1\" class=\"dataframe\">\n",
       "  <thead>\n",
       "    <tr style=\"text-align: right;\">\n",
       "      <th></th>\n",
       "      <th>hospitalCases</th>\n",
       "      <th>newAdmissions</th>\n",
       "      <th>transmissionRateGrowthRateMax</th>\n",
       "      <th>transmissionRateGrowthRateMin</th>\n",
       "    </tr>\n",
       "  </thead>\n",
       "  <tbody>\n",
       "    <tr>\n",
       "      <th>2020-03-19</th>\n",
       "      <td>0.0</td>\n",
       "      <td>240.0</td>\n",
       "      <td>0.0</td>\n",
       "      <td>0.0</td>\n",
       "    </tr>\n",
       "    <tr>\n",
       "      <th>2020-03-20</th>\n",
       "      <td>841.0</td>\n",
       "      <td>272.0</td>\n",
       "      <td>0.0</td>\n",
       "      <td>0.0</td>\n",
       "    </tr>\n",
       "    <tr>\n",
       "      <th>2020-03-21</th>\n",
       "      <td>1081.0</td>\n",
       "      <td>311.0</td>\n",
       "      <td>0.0</td>\n",
       "      <td>0.0</td>\n",
       "    </tr>\n",
       "    <tr>\n",
       "      <th>2020-03-22</th>\n",
       "      <td>1266.0</td>\n",
       "      <td>335.0</td>\n",
       "      <td>0.0</td>\n",
       "      <td>0.0</td>\n",
       "    </tr>\n",
       "    <tr>\n",
       "      <th>2020-03-23</th>\n",
       "      <td>1559.0</td>\n",
       "      <td>505.0</td>\n",
       "      <td>0.0</td>\n",
       "      <td>0.0</td>\n",
       "    </tr>\n",
       "    <tr>\n",
       "      <th>2020-03-24</th>\n",
       "      <td>1705.0</td>\n",
       "      <td>637.0</td>\n",
       "      <td>0.0</td>\n",
       "      <td>0.0</td>\n",
       "    </tr>\n",
       "    <tr>\n",
       "      <th>2020-03-25</th>\n",
       "      <td>2051.0</td>\n",
       "      <td>675.0</td>\n",
       "      <td>0.0</td>\n",
       "      <td>0.0</td>\n",
       "    </tr>\n",
       "    <tr>\n",
       "      <th>2020-03-26</th>\n",
       "      <td>2244.0</td>\n",
       "      <td>519.0</td>\n",
       "      <td>0.0</td>\n",
       "      <td>0.0</td>\n",
       "    </tr>\n",
       "    <tr>\n",
       "      <th>2020-03-27</th>\n",
       "      <td>2829.0</td>\n",
       "      <td>639.0</td>\n",
       "      <td>0.0</td>\n",
       "      <td>0.0</td>\n",
       "    </tr>\n",
       "    <tr>\n",
       "      <th>2020-03-28</th>\n",
       "      <td>3114.0</td>\n",
       "      <td>551.0</td>\n",
       "      <td>0.0</td>\n",
       "      <td>0.0</td>\n",
       "    </tr>\n",
       "    <tr>\n",
       "      <th>2021-10-17</th>\n",
       "      <td>896.0</td>\n",
       "      <td>106.0</td>\n",
       "      <td>0.0</td>\n",
       "      <td>0.0</td>\n",
       "    </tr>\n",
       "    <tr>\n",
       "      <th>2021-10-18</th>\n",
       "      <td>918.0</td>\n",
       "      <td>94.0</td>\n",
       "      <td>0.0</td>\n",
       "      <td>0.0</td>\n",
       "    </tr>\n",
       "    <tr>\n",
       "      <th>2021-10-19</th>\n",
       "      <td>965.0</td>\n",
       "      <td>105.0</td>\n",
       "      <td>0.0</td>\n",
       "      <td>0.0</td>\n",
       "    </tr>\n",
       "    <tr>\n",
       "      <th>2021-10-20</th>\n",
       "      <td>959.0</td>\n",
       "      <td>101.0</td>\n",
       "      <td>0.0</td>\n",
       "      <td>0.0</td>\n",
       "    </tr>\n",
       "    <tr>\n",
       "      <th>2021-10-21</th>\n",
       "      <td>979.0</td>\n",
       "      <td>71.0</td>\n",
       "      <td>0.0</td>\n",
       "      <td>0.0</td>\n",
       "    </tr>\n",
       "    <tr>\n",
       "      <th>2021-10-22</th>\n",
       "      <td>969.0</td>\n",
       "      <td>109.0</td>\n",
       "      <td>0.0</td>\n",
       "      <td>0.0</td>\n",
       "    </tr>\n",
       "    <tr>\n",
       "      <th>2021-10-23</th>\n",
       "      <td>993.0</td>\n",
       "      <td>93.0</td>\n",
       "      <td>0.0</td>\n",
       "      <td>0.0</td>\n",
       "    </tr>\n",
       "    <tr>\n",
       "      <th>2021-10-24</th>\n",
       "      <td>1003.0</td>\n",
       "      <td>96.0</td>\n",
       "      <td>0.0</td>\n",
       "      <td>0.0</td>\n",
       "    </tr>\n",
       "    <tr>\n",
       "      <th>2021-10-25</th>\n",
       "      <td>1044.0</td>\n",
       "      <td>0.0</td>\n",
       "      <td>0.0</td>\n",
       "      <td>0.0</td>\n",
       "    </tr>\n",
       "    <tr>\n",
       "      <th>2021-10-26</th>\n",
       "      <td>1046.0</td>\n",
       "      <td>0.0</td>\n",
       "      <td>0.0</td>\n",
       "      <td>0.0</td>\n",
       "    </tr>\n",
       "  </tbody>\n",
       "</table>\n",
       "</div>"
      ],
      "text/plain": [
       "            hospitalCases  newAdmissions  transmissionRateGrowthRateMax  \\\n",
       "2020-03-19            0.0          240.0                            0.0   \n",
       "2020-03-20          841.0          272.0                            0.0   \n",
       "2020-03-21         1081.0          311.0                            0.0   \n",
       "2020-03-22         1266.0          335.0                            0.0   \n",
       "2020-03-23         1559.0          505.0                            0.0   \n",
       "2020-03-24         1705.0          637.0                            0.0   \n",
       "2020-03-25         2051.0          675.0                            0.0   \n",
       "2020-03-26         2244.0          519.0                            0.0   \n",
       "2020-03-27         2829.0          639.0                            0.0   \n",
       "2020-03-28         3114.0          551.0                            0.0   \n",
       "2021-10-17          896.0          106.0                            0.0   \n",
       "2021-10-18          918.0           94.0                            0.0   \n",
       "2021-10-19          965.0          105.0                            0.0   \n",
       "2021-10-20          959.0          101.0                            0.0   \n",
       "2021-10-21          979.0           71.0                            0.0   \n",
       "2021-10-22          969.0          109.0                            0.0   \n",
       "2021-10-23          993.0           93.0                            0.0   \n",
       "2021-10-24         1003.0           96.0                            0.0   \n",
       "2021-10-25         1044.0            0.0                            0.0   \n",
       "2021-10-26         1046.0            0.0                            0.0   \n",
       "\n",
       "            transmissionRateGrowthRateMin  \n",
       "2020-03-19                            0.0  \n",
       "2020-03-20                            0.0  \n",
       "2020-03-21                            0.0  \n",
       "2020-03-22                            0.0  \n",
       "2020-03-23                            0.0  \n",
       "2020-03-24                            0.0  \n",
       "2020-03-25                            0.0  \n",
       "2020-03-26                            0.0  \n",
       "2020-03-27                            0.0  \n",
       "2020-03-28                            0.0  \n",
       "2021-10-17                            0.0  \n",
       "2021-10-18                            0.0  \n",
       "2021-10-19                            0.0  \n",
       "2021-10-20                            0.0  \n",
       "2021-10-21                            0.0  \n",
       "2021-10-22                            0.0  \n",
       "2021-10-23                            0.0  \n",
       "2021-10-24                            0.0  \n",
       "2021-10-25                            0.0  \n",
       "2021-10-26                            0.0  "
      ]
     },
     "execution_count": 9,
     "metadata": {},
     "output_type": "execute_result"
    }
   ],
   "source": [
    "for entry in datalist: # each entry is a dictionary with date, cases, hospital and deaths\n",
    "    date=parse_date(entry['date'])\n",
    "    for column in ['hospitalCases', 'newAdmissions', 'transmissionRateGrowthRateMax', 'transmissionRateGrowthRateMin']:\n",
    "        # check that nothing is there yet - just in case some dates are duplicated,\n",
    "        # maybe with data for different columns in each entry\n",
    "        if pd.isna(timeseriesdf.loc[date, column]): \n",
    "            # replace None with 0 in our data \n",
    "            value= float(entry[column]) if entry[column]!=None else 0.0\n",
    "            # this is the way you access a specific location in the dataframe - use .loc\n",
    "            # and put index,column in a single set of [ ]\n",
    "            timeseriesdf.loc[date, column]=value\n",
    "            \n",
    "# fill in any remaining \"holes\" due to missing dates\n",
    "timeseriesdf.fillna(0.0, inplace=True)\n",
    "            \n",
    "timeserieslimited1 = timeseriesdf.head(10)\n",
    "timeserieslimited2 = timeseriesdf.tail(10)\n",
    "\n",
    "frames = [timeserieslimited1, timeserieslimited2]\n",
    "\n",
    "result = pd.concat(frames)\n",
    "result_clean = pd.DataFrame(result)\n",
    "result_clean"
   ]
  },
  {
   "cell_type": "markdown",
   "id": "15b20910-64b6-491d-89be-e874de1ab61a",
   "metadata": {},
   "source": [
    "## Plotting our data onto graphs\n"
   ]
  },
  {
   "cell_type": "markdown",
   "id": "d6c48e74-9de1-4ab2-9cbd-712d2bdc414e",
   "metadata": {},
   "source": [
    "The graph shown below "
   ]
  },
  {
   "cell_type": "code",
   "execution_count": 31,
   "id": "f0206c1f-b5a0-4fe9-926e-2d530e6223ba",
   "metadata": {},
   "outputs": [
    {
     "data": {
      "image/png": "[encoded data removed]",
      "text/plain": [
       "<Figure size 600x400 with 2 Axes>"
      ]
     },
     "metadata": {
      "needs_background": "light"
     },
     "output_type": "display_data"
    }
   ],
   "source": [
    "import numpy as np\n",
    "import matplotlib.pyplot as plt\n",
    "import matplotlib.dates as mdates\n",
    "\n",
    "a = timeseriesdf['hospitalCases']\n",
    "b = timeseriesdf['newAdmissions']\n",
    "                \n",
    "\n",
    "fig, ax1 = plt.subplots()\n",
    "\n",
    "plt.title('NHS Region (London) - Hospital Cases and New Admissions monthly from 2020 to 2021')\n",
    "\n",
    "color = 'tab:red'\n",
    "ax1.set_xlabel('time (month)')\n",
    "ax1.set_ylabel('Hospital Cases', color=color)\n",
    "ax1.plot(a, color=color)\n",
    "ax1.tick_params(axis='y', labelcolor=color)\n",
    "ax1.xaxis.set_major_formatter(mdates.DateFormatter('%b'))\n",
    "\n",
    "ax2 = ax1.twinx()  # instantiate a second axes that shares the same x-axis\n",
    "\n",
    "color = 'tab:blue'\n",
    "ax2.set_ylabel('New Admissions', color=color)  # we already handled the x-label with ax1\n",
    "ax2.plot(b, color=color)\n",
    "ax2.tick_params(axis='y', labelcolor=color)\n",
    "ax2.xaxis.set_major_formatter(mdates.DateFormatter('%b'))\n",
    "\n",
    "\n",
    "fig.tight_layout()  # otherwise the right y-label is slightly clipped\n",
    "plt.show()"
   ]
  },
  {
   "cell_type": "code",
   "execution_count": 33,
   "id": "6373efde-f683-4447-81b8-f4afc0ad56d2",
   "metadata": {},
   "outputs": [
    {
     "data": {
      "image/png": "[encoded data removed]",
      "text/plain": [
       "<Figure size 600x400 with 2 Axes>"
      ]
     },
     "metadata": {},
     "output_type": "display_data"
    }
   ],
   "source": [
    "import numpy as np\n",
    "import matplotlib.pyplot as plt\n",
    "import matplotlib.dates as mdates\n",
    "\n",
    "a = timeseriesdf['transmissionRateGrowthRateMax']\n",
    "b = timeseriesdf['transmissionRateGrowthRateMin']\n",
    "                \n",
    "\n",
    "fig, ax1 = plt.subplots()\n",
    "\n",
    "plt.title('NHS Region (London) - Max/Min Transmission Rate Growth Rate monthly from 2020 to 2021')\n",
    "\n",
    "color = 'tab:green'\n",
    "ax1.set_xlabel('time (month)')\n",
    "ax1.set_ylabel('Transmission Rate Growth Rate Max', color=color)\n",
    "ax1.plot(a, color=color)\n",
    "ax1.tick_params(axis='y', labelcolor=color)\n",
    "ax1.xaxis.set_major_formatter(mdates.DateFormatter('%b%y'))\n",
    "\n",
    "ax2 = ax1.twinx()  # instantiate a second axes that shares the same x-axis\n",
    "\n",
    "color = 'tab:orange'\n",
    "ax2.set_ylabel('NTransmission Rate Growth Rate Min', color=color)  # we already handled the x-label with ax1\n",
    "ax2.plot(b, color=color)\n",
    "ax2.tick_params(axis='y', labelcolor=color)\n",
    "ax2.xaxis.set_major_formatter(mdates.DateFormatter('%b%y'))\n",
    "\n",
    "\n",
    "fig.tight_layout()  # otherwise the right y-label is slightly clipped\n",
    "plt.show()"
   ]
  },
  {
   "cell_type": "code",
   "execution_count": 12,
   "id": "31885091-5a68-43dc-a54e-12dd5886114f",
   "metadata": {},
   "outputs": [
    {
     "data": {
      "text/plain": [
       "<AxesSubplot:>"
      ]
     },
     "execution_count": 12,
     "metadata": {},
     "output_type": "execute_result"
    },
    {
     "data": {
      "image/png": "[encoded data removed]",
      "text/plain": [
       "<Figure size 720x480 with 1 Axes>"
      ]
     },
     "metadata": {
      "needs_background": "light"
     },
     "output_type": "display_data"
    }
   ],
   "source": [
    "timeseriesdf.plot(logy=True) # ...lemon squeezy"
   ]
  },
  {
   "cell_type": "markdown",
   "id": "9cbcee1a-ec84-41cf-bf76-14177b16fcb2",
   "metadata": {},
   "source": [
    "# Interactive Graphs\n",
    "\n",
    "## Conversion of our data into a pickle"
   ]
  },
  {
   "cell_type": "code",
   "execution_count": 13,
   "id": "210305eb-ff71-4254-9f7c-b9d010a7c994",
   "metadata": {},
   "outputs": [],
   "source": [
    "timeseriesdf.to_pickle(\"timeseriesdf.pkl\")"
   ]
  },
  {
   "cell_type": "code",
   "execution_count": 14,
   "id": "b9d44b06-1177-4518-bac9-92f58d6c349d",
   "metadata": {},
   "outputs": [],
   "source": [
    "#datadic=data['body'] # data['data'] is a list\n",
    "#datadic"
   ]
  },
  {
   "cell_type": "code",
   "execution_count": 15,
   "id": "05b7e0d4-042f-47a3-bcd3-25f06b2bb4f5",
   "metadata": {},
   "outputs": [],
   "source": [
    "from IPython.display import clear_output\n",
    "import ipywidgets as wdg\n",
    "import pandas as pd\n",
    "import matplotlib.pyplot as plt"
   ]
  },
  {
   "cell_type": "code",
   "execution_count": 16,
   "id": "080ddd02-de34-4d86-a773-2637a7e3853f",
   "metadata": {},
   "outputs": [],
   "source": [
    "%matplotlib inline\n",
    "# make figures larger\n",
    "plt.rcParams['figure.dpi'] = 100"
   ]
  },
  {
   "cell_type": "code",
   "execution_count": 17,
   "id": "9d19bd17-f8f1-45e0-8e27-162d25b2998e",
   "metadata": {},
   "outputs": [
    {
     "data": {
      "application/vnd.jupyter.widget-view+json": {
       "model_id": "7679206a020f46aa9addbadf4325e432",
       "version_major": 2,
       "version_minor": 0
      },
      "text/plain": [
       "Button(description='Refresh data', icon='download', style=ButtonStyle(), tooltip='Click to download current Pu…"
      ]
     },
     "metadata": {},
     "output_type": "display_data"
    }
   ],
   "source": [
    "# our API access function. This will be called by the button when it is clicked\n",
    "def access_api(button):\n",
    "    # Ignore the button parameter\n",
    "    #\n",
    "    # put code for polling the API here\n",
    "    #\n",
    "    # after all is done, you can switch the icon on the button to a \"check\" sign\n",
    "    # and optionally disable the button - it won't be needed again.\n",
    "    apibutton.icon=\"check\"\n",
    "    apibutton.disabled=True\n",
    "\n",
    "# see the doc for the parameters    \n",
    "apibutton=wdg.Button(\n",
    "    description='Refresh data',\n",
    "    disabled=False,\n",
    "    button_style='', # 'success', 'info', 'warning', 'danger' or ''\n",
    "    tooltip='Click to download current Public Health England data',\n",
    "    icon='download' # (FontAwesome names without the `fa-` prefix)\n",
    ")\n",
    "\n",
    "# register the callback function with the button\n",
    "apibutton.on_click(access_api)\n",
    "\n",
    "# this is an iPython function that generalises print for Jupyter Notebooks; we use it to \n",
    "# display the widgets\n",
    "display(apibutton)"
   ]
  },
  {
   "cell_type": "markdown",
   "id": "d315354b-0aa8-4c04-b6e9-77b5d9346579",
   "metadata": {},
   "source": [
    "## Reading our data from pickle file\n",
    "\n",
    "Presenting both individual plots and joint plots of hospital cases, new admissions, max/min transmission rate growth rate monthly from 2020-2021"
   ]
  },
  {
   "cell_type": "code",
   "execution_count": 18,
   "id": "77474858-3b95-4918-9912-39b1de7a86fd",
   "metadata": {},
   "outputs": [],
   "source": [
    "timeseriesdf=pd.read_pickle(\"timeseriesdf.pkl\")"
   ]
  },
  {
   "cell_type": "code",
   "execution_count": 37,
   "id": "db45e13f-0ac2-43ac-bf32-dc84b5d44a87",
   "metadata": {},
   "outputs": [
    {
     "data": {
      "application/vnd.jupyter.widget-view+json": {
       "model_id": "c892af590b0b4809afeabf6f680bdefa",
       "version_major": 2,
       "version_minor": 0
      },
      "text/plain": [
       "HBox(children=(SelectMultiple(description='Plot of:', index=(0, 1, 2, 3), options=('hospitalCases', 'newAdmiss…"
      ]
     },
     "metadata": {},
     "output_type": "display_data"
    },
    {
     "data": {
      "application/vnd.jupyter.widget-view+json": {
       "model_id": "4ef25ca73f214923908bab3e591ab99a",
       "version_major": 2,
       "version_minor": 0
      },
      "text/plain": [
       "Output()"
      ]
     },
     "metadata": {},
     "output_type": "display_data"
    }
   ],
   "source": [
    "series=wdg.SelectMultiple(\n",
    "    options=['hospitalCases', 'newAdmissions', 'transmissionRateGrowthRateMax', 'transmissionRateGrowthRateMin'],\n",
    "    value=['hospitalCases', 'newAdmissions', 'transmissionRateGrowthRateMax', 'transmissionRateGrowthRateMin'],\n",
    "    rows=3,\n",
    "    description='Plot of:',\n",
    "    disabled=False\n",
    ")\n",
    "\n",
    "scale=wdg.RadioButtons(\n",
    "    options=['linear', 'log'],\n",
    "#    value='pineapple', # Defaults to 'pineapple'\n",
    "#    layout={'width': 'max-content'}, # If the items' names are long\n",
    "    description='Scales:',\n",
    "    disabled=False\n",
    ")\n",
    "\n",
    "# try replacing HBox with a VBox\n",
    "controls=wdg.HBox([series, scale])\n",
    "\n",
    "def timeseries_graph(gcols, gscale):\n",
    "    if gscale=='linear':\n",
    "        logscale=False\n",
    "    else:\n",
    "        logscale=True\n",
    "    ncols=len(gcols)\n",
    "    if ncols>0:\n",
    "        timeseriesdf[list(gcols)].plot(logy=logscale)\n",
    "        plt.show() # important - graphs won't update if this is missing \n",
    "    else:\n",
    "        print(\"Click to select data for graph\")\n",
    "        print(\"(CTRL-Click to select more than one category)\")\n",
    "\n",
    "# keep calling timeseries_graph(gcols=value_of_series, gscale=value_of_scale); \n",
    "# capture output in widget graph   \n",
    "graph=wdg.interactive_output(timeseries_graph, {'gcols': series, 'gscale': scale})\n",
    "\n",
    "display(controls, graph)"
   ]
  },
  {
   "cell_type": "markdown",
   "id": "c2a02aa6-c39a-4680-8299-423197145bb1",
   "metadata": {},
   "source": [
    "In the graph shown above you are able to choose the different scales you want it as linear/logarithmic. As well as being able to select multiple plots so they can be shown on the same graph."
   ]
  },
  {
   "cell_type": "markdown",
   "id": "6f353971-c652-4715-827e-2447fe19bf47",
   "metadata": {},
   "source": [
    "## Dropdown interactive graph together with configuration button"
   ]
  },
  {
   "cell_type": "code",
   "execution_count": 20,
   "id": "e2c6ee3c-e322-4297-bf8e-b3f256bf007a",
   "metadata": {},
   "outputs": [],
   "source": [
    "from IPython.display import clear_output\n",
    "import ipywidgets as wdg\n",
    "import pandas as pd\n",
    "import numpy as np\n",
    "import matplotlib.pyplot as plt\n",
    "import json\n",
    "from uk_covid19 import Cov19API"
   ]
  },
  {
   "cell_type": "code",
   "execution_count": 21,
   "id": "3d65728f-3eee-4b16-baa9-f520d9b6f725",
   "metadata": {},
   "outputs": [],
   "source": [
    "%matplotlib inline\n",
    "# make figures larger\n",
    "plt.rcParams['figure.dpi'] = 100"
   ]
  },
  {
   "cell_type": "code",
   "execution_count": 22,
   "id": "9ebad25a-dcdc-4147-a4f9-6c81bb9282e1",
   "metadata": {},
   "outputs": [],
   "source": [
    "# jsondata={}"
   ]
  },
  {
   "cell_type": "code",
   "execution_count": 23,
   "id": "da4b1107-c256-42cc-88cd-4ca1602f57b1",
   "metadata": {},
   "outputs": [],
   "source": [
    "with open(\"nhsRegion_2021-10-26.json\", \"rt\") as INFILE:\n",
    "    jsondata=json.load(INFILE)"
   ]
  },
  {
   "cell_type": "code",
   "execution_count": 24,
   "id": "9de0771e-84bd-478c-8495-d6afd4f973e5",
   "metadata": {},
   "outputs": [],
   "source": [
    "def wrangle_data(rawdata):\n",
    "    \"\"\" Parameters: rawdata - data from json file or API call. Returns a dataframe.\n",
    "    Edit to include the code that wrangles the data, creates the dataframe and fills it in. \"\"\"\n",
    "   \n",
    "    datalist=rawdata['body']\n",
    "    \n",
    "    index=pd.date_range(startdate, enddate, freq='D')\n",
    "    timeseriesdf=pd.DataFrame(index=index, columns=['hospitalCases', 'newAdmissions', 'transmissionRateGrowthRateMax', 'transmissionRateGrowthRateMin'])\n",
    "    \n",
    "    \n",
    "    for entry in datalist: # each entry is a dictionary with date, cases, hospital and deaths\n",
    "        date=parse_date(entry['date'])\n",
    "        for column in ['hospitalCases', 'newAdmissions', 'transmissionRateGrowthRateMax', 'transmissionRateGrowthRateMin']:\n",
    "        # check that nothing is there yet - just in case some dates are duplicated,\n",
    "        # maybe with data for different columns in each entry\n",
    "            if pd.isna(timeseriesdf.loc[date, column]): \n",
    "            # replace None with 0 in our data \n",
    "                value= float(entry[column]) if entry[column]!=None else 0.0\n",
    "            # this is the way you access a specific location in the dataframe - use .loc\n",
    "            # and put index,column in a single set of [ ]\n",
    "                timeseriesdf.loc[date, column]=value\n",
    "            \n",
    "# fill in any remaining \"holes\" due to missing dates\n",
    "    timeseriesdf.fillna(0.0, inplace=True)\n",
    "    return timeseriesdf        \n",
    "\n",
    "# putting the wrangling code into a function allows you to call it again after refreshing the data through \n",
    "# the API. You should call the function directly on the JSON data when the dashboard starts, by including \n",
    "# the call in the cell as below:\n",
    "df=wrangle_data(jsondata) # df is the dataframe for plotting"
   ]
  },
  {
   "cell_type": "code",
   "execution_count": 25,
   "id": "dff24438-105e-4bac-a582-e008b4d13447",
   "metadata": {},
   "outputs": [],
   "source": [
    "def access_api():\n",
    "    \"\"\" Accesses the PHE API. Returns raw data in the same format as data loaded from the \"canned\" JSON file. \"\"\"\n",
    "    return {} # return data read from the API"
   ]
  },
  {
   "cell_type": "code",
   "execution_count": 34,
   "id": "b9ee73ae-de71-4019-8f1f-34c792762de3",
   "metadata": {},
   "outputs": [
    {
     "data": {
      "application/vnd.jupyter.widget-view+json": {
       "model_id": "36fb71b8cc8f4607af1895c64134bd80",
       "version_major": 2,
       "version_minor": 0
      },
      "text/plain": [
       "Button(button_style='info', description='Refresh Button', icon='download', style=ButtonStyle(), tooltip='Keep …"
      ]
     },
     "metadata": {},
     "output_type": "display_data"
    }
   ],
   "source": [
    "def api_button_callback(button):\n",
    "    \"\"\" Button callback - it must take the button as its parameter (unused in this case).\n",
    "    Accesses API, wrangles data, updates global variable df used for plotting. \"\"\"\n",
    "    # Get fresh data from the API. If you have time, include some error handling\n",
    "    # around this call.\n",
    "    apidata=access_api()\n",
    "    # wrangle the data and overwrite the dataframe for plotting\n",
    "    global df\n",
    "    df=wrangle_data(apidata)\n",
    "    # the graph won't refresh until the user interacts with the widget.\n",
    "    # this function simulates the interaction, see Graph and Analysis below.\n",
    "    # you can omit this step in the first instance\n",
    "    refresh_graph()\n",
    "    # after all is done, you can switch the icon on the button to a \"check\" sign\n",
    "    # and optionally disable the button - it won't be needed again. You can use icons\n",
    "    # \"unlink\" or \"times\" and change the button text to \"Unavailable\" in case the \n",
    "    # api call fails.\n",
    "    apibutton.icon=\"check\"\n",
    "    # apibutton.disabled=True\n",
    "\n",
    "    \n",
    "apibutton=wdg.Button(\n",
    "    description='Refresh Button', # you may want to change this...\n",
    "    disabled=False,\n",
    "    button_style='info', # 'success', 'info', 'warning', 'danger' or ''\n",
    "    tooltip=\"Keep calm and carry on\",\n",
    "    # FontAwesome names without the `fa-` prefix - try \"download\"\n",
    "    icon='download'\n",
    ")\n",
    "\n",
    "# remember to register your button callback function with the button\n",
    "apibutton.on_click(api_button_callback) # the name of your function inside these brackets\n",
    "\n",
    "display(apibutton)\n",
    "\n",
    "# run all cells before clicking on this button"
   ]
  },
  {
   "cell_type": "markdown",
   "id": "8a4dd609-07f8-4043-bf76-333516168896",
   "metadata": {},
   "source": [
    "#### Interactive graphs\n",
    "\n",
    "Presents 4 individual interactive graphs for each metrics selected (Hospital Cases, New Admissions, Max/Min Transmission Rate Growth Rate) at the start fo the overview when the data was downloaded. "
   ]
  },
  {
   "cell_type": "code",
   "execution_count": 27,
   "id": "47db79b5-6bc3-4212-8deb-064d344248c1",
   "metadata": {},
   "outputs": [
    {
     "data": {
      "application/vnd.jupyter.widget-view+json": {
       "model_id": "39d741afe274473492a80ad5ff56bccb",
       "version_major": 2,
       "version_minor": 0
      },
      "text/plain": [
       "Dropdown(description='Walk no: ', options=('hospitalCases', 'newAdmissions', 'transmissionRateGrowthRateMax', …"
      ]
     },
     "metadata": {},
     "output_type": "display_data"
    },
    {
     "data": {
      "application/vnd.jupyter.widget-view+json": {
       "model_id": "7b9a2cf77d13413c92112ed9374ceb38",
       "version_major": 2,
       "version_minor": 0
      },
      "text/plain": [
       "Output()"
      ]
     },
     "metadata": {},
     "output_type": "display_data"
    }
   ],
   "source": [
    "def plot_random_walk(walk):\n",
    "    df[walk].plot()\n",
    "    plt.show() # important! update won't work properly without this\n",
    "    \n",
    "whichwalk=wdg.Dropdown(\n",
    "    options=['hospitalCases', 'newAdmissions', 'transmissionRateGrowthRateMax', 'transmissionRateGrowthRateMin'],\n",
    "    value='hospitalCases',\n",
    "    description='Walk no: ',\n",
    "    disabled=False,\n",
    ")\n",
    "\n",
    "def refresh_graph():\n",
    "    \"\"\" We change the value of the widget in order to force a redraw of the graph;\n",
    "    this is useful when the data have been updated. This is a bit of a gimmick; it\n",
    "    needs to be customised for one of your widgets. \"\"\"\n",
    "    current=whichwalk.value\n",
    "    if current==whichwalk.options[0]:\n",
    "        other=whichwalk.options[1]\n",
    "    else:\n",
    "        other=whichwalk.options[0]\n",
    "    whichwalk.value=other # forces the redraw\n",
    "    whichwalk.value=current # now we can change it back\n",
    "    \n",
    "    \n",
    "graph=wdg.interactive_output(plot_random_walk, {'walk': whichwalk})\n",
    "    \n",
    "display(whichwalk, graph)"
   ]
  },
  {
   "cell_type": "code",
   "execution_count": null,
   "id": "9edfbc81-5d08-4b58-8221-ae1c1ff0fcf9",
   "metadata": {},
   "outputs": [],
   "source": []
  },
  {
   "cell_type": "code",
   "execution_count": null,
   "id": "c1ec8e0d-7ec2-4170-bc6f-3f8ea09e5842",
   "metadata": {},
   "outputs": [],
   "source": []
  },
  {
   "cell_type": "code",
   "execution_count": null,
   "id": "5321a203-afd8-42a9-a1b5-288d22e51e0d",
   "metadata": {},
   "outputs": [],
   "source": []
  },
  {
   "cell_type": "code",
   "execution_count": null,
   "id": "1e04ffc2-2d95-4791-b412-050586e62a93",
   "metadata": {},
   "outputs": [],
   "source": []
  },
  {
   "cell_type": "code",
   "execution_count": null,
   "id": "169d2a95-fbc3-4c05-b176-02ec705a5fef",
   "metadata": {},
   "outputs": [],
   "source": []
  },
  {
   "cell_type": "code",
   "execution_count": null,
   "id": "a3cac187-cc3a-4f3d-bb19-bdcc143a9c9f",
   "metadata": {},
   "outputs": [],
   "source": []
  },
  {
   "cell_type": "code",
   "execution_count": null,
   "id": "008cf667-493f-433a-83e1-d1d6b0139016",
   "metadata": {},
   "outputs": [],
   "source": []
  },
  {
   "cell_type": "code",
   "execution_count": null,
   "id": "dd004f04-58a9-4341-8777-223875553139",
   "metadata": {},
   "outputs": [],
   "source": []
  },
  {
   "cell_type": "code",
   "execution_count": null,
   "id": "396e4dec-4239-4e19-ad8e-6c392d71446b",
   "metadata": {},
   "outputs": [],
   "source": []
  },
  {
   "cell_type": "code",
   "execution_count": null,
   "id": "420a904d-c1e9-4543-a217-355a3b81bf0c",
   "metadata": {},
   "outputs": [],
   "source": []
  },
  {
   "cell_type": "code",
   "execution_count": null,
   "id": "ca04fc09-cc3c-4491-bfd2-f48b030dfe5d",
   "metadata": {},
   "outputs": [],
   "source": []
  },
  {
   "cell_type": "code",
   "execution_count": null,
   "id": "4af84efc-7792-4819-b501-756ce7b7c88f",
   "metadata": {},
   "outputs": [],
   "source": []
  },
  {
   "cell_type": "code",
   "execution_count": null,
   "id": "6f380ff6-c674-408b-92be-bf7a4579fa11",
   "metadata": {},
   "outputs": [],
   "source": []
  }
 ],
 "metadata": {
  "kernelspec": {
   "display_name": "Python 3 (ipykernel)",
   "language": "python",
   "name": "python3"
  },
  "language_info": {
   "codemirror_mode": {
    "name": "ipython",
    "version": 3
   },
   "file_extension": ".py",
   "mimetype": "text/x-python",
   "name": "python",
   "nbconvert_exporter": "python",
   "pygments_lexer": "ipython3",
   "version": "3.9.6"
  }
 },
 "nbformat": 4,
 "nbformat_minor": 5
}
